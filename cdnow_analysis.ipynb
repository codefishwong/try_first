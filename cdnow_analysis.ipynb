{
 "cells": [
  {
   "cell_type": "code",
   "execution_count": 1,
   "metadata": {},
   "outputs": [],
   "source": [
    "import pandas as pd\n",
    "import numpy as np\n",
    "import matplotlib.pyplot as plt\n",
    "%matplotlib inline"
   ]
  },
  {
   "cell_type": "code",
   "execution_count": 26,
   "metadata": {},
   "outputs": [],
   "source": [
    "with open('cdnow1.txt','w') as f1:\n",
    "    with open('cdnow.txt') as f:\n",
    "        for i in f.readlines():\n",
    "#             print(' '.join(i.split()))\n",
    "            f1.write(' '.join(i.split())+'\\n')\n",
    "            \n"
   ]
  },
  {
   "cell_type": "code",
   "execution_count": 140,
   "metadata": {},
   "outputs": [],
   "source": [
    "df = pd.read_csv('cdnow1.txt', sep=' ',header=None, names=['id','time', 'cnt', 'price'],\n",
    "                 dtype={'id':'str','time':'str','cnt':'int64','price':'float64'})"
   ]
  },
  {
   "cell_type": "code",
   "execution_count": 141,
   "metadata": {},
   "outputs": [
    {
     "name": "stdout",
     "output_type": "stream",
     "text": [
      "id        object\n",
      "time      object\n",
      "cnt        int64\n",
      "price    float64\n",
      "dtype: object\n"
     ]
    },
    {
     "data": {
      "text/html": [
       "<div>\n",
       "<style scoped>\n",
       "    .dataframe tbody tr th:only-of-type {\n",
       "        vertical-align: middle;\n",
       "    }\n",
       "\n",
       "    .dataframe tbody tr th {\n",
       "        vertical-align: top;\n",
       "    }\n",
       "\n",
       "    .dataframe thead th {\n",
       "        text-align: right;\n",
       "    }\n",
       "</style>\n",
       "<table border=\"1\" class=\"dataframe\">\n",
       "  <thead>\n",
       "    <tr style=\"text-align: right;\">\n",
       "      <th></th>\n",
       "      <th>id</th>\n",
       "      <th>time</th>\n",
       "      <th>cnt</th>\n",
       "      <th>price</th>\n",
       "    </tr>\n",
       "  </thead>\n",
       "  <tbody>\n",
       "    <tr>\n",
       "      <th>0</th>\n",
       "      <td>00001</td>\n",
       "      <td>19970101</td>\n",
       "      <td>1</td>\n",
       "      <td>11.77</td>\n",
       "    </tr>\n",
       "    <tr>\n",
       "      <th>1</th>\n",
       "      <td>00002</td>\n",
       "      <td>19970112</td>\n",
       "      <td>1</td>\n",
       "      <td>12.00</td>\n",
       "    </tr>\n",
       "    <tr>\n",
       "      <th>2</th>\n",
       "      <td>00002</td>\n",
       "      <td>19970112</td>\n",
       "      <td>5</td>\n",
       "      <td>77.00</td>\n",
       "    </tr>\n",
       "    <tr>\n",
       "      <th>3</th>\n",
       "      <td>00003</td>\n",
       "      <td>19970102</td>\n",
       "      <td>2</td>\n",
       "      <td>20.76</td>\n",
       "    </tr>\n",
       "    <tr>\n",
       "      <th>4</th>\n",
       "      <td>00003</td>\n",
       "      <td>19970330</td>\n",
       "      <td>2</td>\n",
       "      <td>20.76</td>\n",
       "    </tr>\n",
       "  </tbody>\n",
       "</table>\n",
       "</div>"
      ],
      "text/plain": [
       "      id      time  cnt  price\n",
       "0  00001  19970101    1  11.77\n",
       "1  00002  19970112    1  12.00\n",
       "2  00002  19970112    5  77.00\n",
       "3  00003  19970102    2  20.76\n",
       "4  00003  19970330    2  20.76"
      ]
     },
     "execution_count": 141,
     "metadata": {},
     "output_type": "execute_result"
    }
   ],
   "source": [
    "print(df.dtypes)\n",
    "df.head()"
   ]
  },
  {
   "cell_type": "code",
   "execution_count": 142,
   "metadata": {
    "scrolled": true
   },
   "outputs": [
    {
     "data": {
      "text/html": [
       "<div>\n",
       "<style scoped>\n",
       "    .dataframe tbody tr th:only-of-type {\n",
       "        vertical-align: middle;\n",
       "    }\n",
       "\n",
       "    .dataframe tbody tr th {\n",
       "        vertical-align: top;\n",
       "    }\n",
       "\n",
       "    .dataframe thead th {\n",
       "        text-align: right;\n",
       "    }\n",
       "</style>\n",
       "<table border=\"1\" class=\"dataframe\">\n",
       "  <thead>\n",
       "    <tr style=\"text-align: right;\">\n",
       "      <th></th>\n",
       "      <th>cnt</th>\n",
       "      <th>price</th>\n",
       "      <th>money</th>\n",
       "    </tr>\n",
       "  </thead>\n",
       "  <tbody>\n",
       "    <tr>\n",
       "      <th>count</th>\n",
       "      <td>69659.000000</td>\n",
       "      <td>69659.000000</td>\n",
       "      <td>69659.000000</td>\n",
       "    </tr>\n",
       "    <tr>\n",
       "      <th>mean</th>\n",
       "      <td>2.410040</td>\n",
       "      <td>35.893648</td>\n",
       "      <td>162.834814</td>\n",
       "    </tr>\n",
       "    <tr>\n",
       "      <th>std</th>\n",
       "      <td>2.333924</td>\n",
       "      <td>36.281942</td>\n",
       "      <td>864.312155</td>\n",
       "    </tr>\n",
       "    <tr>\n",
       "      <th>min</th>\n",
       "      <td>1.000000</td>\n",
       "      <td>0.000000</td>\n",
       "      <td>0.000000</td>\n",
       "    </tr>\n",
       "    <tr>\n",
       "      <th>25%</th>\n",
       "      <td>1.000000</td>\n",
       "      <td>14.490000</td>\n",
       "      <td>14.770000</td>\n",
       "    </tr>\n",
       "    <tr>\n",
       "      <th>50%</th>\n",
       "      <td>2.000000</td>\n",
       "      <td>25.980000</td>\n",
       "      <td>48.960000</td>\n",
       "    </tr>\n",
       "    <tr>\n",
       "      <th>75%</th>\n",
       "      <td>3.000000</td>\n",
       "      <td>43.700000</td>\n",
       "      <td>125.730000</td>\n",
       "    </tr>\n",
       "    <tr>\n",
       "      <th>max</th>\n",
       "      <td>99.000000</td>\n",
       "      <td>1286.010000</td>\n",
       "      <td>127314.990000</td>\n",
       "    </tr>\n",
       "  </tbody>\n",
       "</table>\n",
       "</div>"
      ],
      "text/plain": [
       "                cnt         price          money\n",
       "count  69659.000000  69659.000000   69659.000000\n",
       "mean       2.410040     35.893648     162.834814\n",
       "std        2.333924     36.281942     864.312155\n",
       "min        1.000000      0.000000       0.000000\n",
       "25%        1.000000     14.490000      14.770000\n",
       "50%        2.000000     25.980000      48.960000\n",
       "75%        3.000000     43.700000     125.730000\n",
       "max       99.000000   1286.010000  127314.990000"
      ]
     },
     "execution_count": 142,
     "metadata": {},
     "output_type": "execute_result"
    }
   ],
   "source": [
    "df['dt']=pd.DatetimeIndex(df.time)\n",
    "df['money'] = df.cnt * df.price\n",
    "df =df.set_index('dt')\n",
    "df.describe()"
   ]
  },
  {
   "cell_type": "markdown",
   "metadata": {},
   "source": [
    "按每天的销售额随时间的变化规律来看，有几天异常的大"
   ]
  },
  {
   "cell_type": "code",
   "execution_count": 148,
   "metadata": {},
   "outputs": [
    {
     "data": {
      "text/plain": [
       "<matplotlib.axes._subplots.AxesSubplot at 0xaaace80>"
      ]
     },
     "execution_count": 148,
     "metadata": {},
     "output_type": "execute_result"
    },
    {
     "data": {
      "image/png": "[encoded data removed]",
      "text/plain": [
       "<Figure size 432x288 with 1 Axes>"
      ]
     },
     "metadata": {
      "needs_background": "light"
     },
     "output_type": "display_data"
    }
   ],
   "source": [
    "df.resample('D')['money'].sum().plot()\n",
    "# df.resample('M', kind='period')['money'].sum().plot()\n"
   ]
  },
  {
   "cell_type": "code",
   "execution_count": 144,
   "metadata": {},
   "outputs": [
    {
     "data": {
      "text/plain": [
       "<matplotlib.axes._subplots.AxesSubplot at 0xe3a7278>"
      ]
     },
     "execution_count": 144,
     "metadata": {},
     "output_type": "execute_result"
    },
    {
     "data": {
      "image/png": "[encoded data removed]",
      "text/plain": [
       "<Figure size 432x288 with 1 Axes>"
      ]
     },
     "metadata": {
      "needs_background": "light"
     },
     "output_type": "display_data"
    }
   ],
   "source": [
    "df.resample('D')['money'].mean().plot()"
   ]
  },
  {
   "cell_type": "markdown",
   "metadata": {},
   "source": [
    "#从每日均笔销售额来看，1997-05,1998-06月均有销售额异常大的情况，正常日均每笔销售额应该在200以下,1997-06-07 日均平均笔销售额值为1016.7，1998-06-10日平均笔销售额1497.6\n",
    "后面发现price更像是销售额"
   ]
  },
  {
   "cell_type": "code",
   "execution_count": 152,
   "metadata": {},
   "outputs": [
    {
     "data": {
      "text/plain": [
       "<matplotlib.axes._subplots.AxesSubplot at 0xe905ef0>"
      ]
     },
     "execution_count": 152,
     "metadata": {},
     "output_type": "execute_result"
    },
    {
     "data": {
      "image/png": "[encoded data removed]",
      "text/plain": [
       "<Figure size 432x288 with 1 Axes>"
      ]
     },
     "metadata": {
      "needs_background": "light"
     },
     "output_type": "display_data"
    }
   ],
   "source": [
    "df.resample('D')['money'].mean()[df.resample('D')['money'].mean()>300].plot()"
   ]
  },
  {
   "cell_type": "code",
   "execution_count": 184,
   "metadata": {},
   "outputs": [
    {
     "data": {
      "text/plain": [
       "array(['1997-01', '1997-03', '1997-04', '1997-11', '1998-05', '1997-08',\n",
       "       '1997-12', '1997-02', '1997-05', '1997-06', '1997-07', '1997-09',\n",
       "       '1998-01', '1997-10', '1998-03', '1998-06', '1998-02', '1998-04'],\n",
       "      dtype=object)"
      ]
     },
     "execution_count": 184,
     "metadata": {},
     "output_type": "execute_result"
    }
   ],
   "source": [
    "df['month'] = df.time.apply(lambda x: x[:4] + '-' + x[4:6])\n",
    "M = df.month.unique()\n",
    "M"
   ]
  },
  {
   "cell_type": "markdown",
   "metadata": {},
   "source": [
    "按月均价来看，整体月均价基本都在14-15之前，1997年前三个月整体月均价格叫较高，超过15"
   ]
  },
  {
   "cell_type": "code",
   "execution_count": 205,
   "metadata": {},
   "outputs": [
    {
     "name": "stdout",
     "output_type": "stream",
     "text": [
      "month\n",
      "1997-01    15.402769\n",
      "1997-02    15.231733\n",
      "1997-03    15.029446\n",
      "1997-04    14.680285\n",
      "1997-05    14.836192\n",
      "1997-06    14.846716\n",
      "1997-07    15.014006\n",
      "1997-08    15.103006\n",
      "1997-09    14.304207\n",
      "1997-10    14.473766\n",
      "1997-11    14.778372\n",
      "1997-12    14.892077\n",
      "1998-01    14.542778\n",
      "1998-02    14.437633\n",
      "1998-03    14.664265\n",
      "1998-04    14.100813\n",
      "1998-05    14.478821\n",
      "1998-06    14.395555\n",
      "Name: price_1, dtype: float64\n"
     ]
    },
    {
     "data": {
      "text/plain": [
       "<matplotlib.axes._subplots.AxesSubplot at 0x2b834518>"
      ]
     },
     "execution_count": 205,
     "metadata": {},
     "output_type": "execute_result"
    },
    {
     "data": {
      "image/png": "[encoded data removed]",
      "text/plain": [
       "<Figure size 432x288 with 1 Axes>"
      ]
     },
     "metadata": {
      "needs_background": "light"
     },
     "output_type": "display_data"
    }
   ],
   "source": [
    "df2 = df\n",
    "df2 = df2.set_index('month')\n",
    "df3 = df2.groupby('month')['cnt', 'price'].sum()\n",
    "df3['price_1'] = df3.price/ df3.cnt\n",
    "print(df3.price_1)\n",
    "df3['price_1'].plot()"
   ]
  },
  {
   "cell_type": "code",
   "execution_count": 207,
   "metadata": {},
   "outputs": [
    {
     "name": "stdout",
     "output_type": "stream",
     "text": [
      "month\n",
      "1997-01    19416\n",
      "1997-02    24921\n",
      "1997-03    26159\n",
      "1997-04     9729\n",
      "1997-05     7275\n",
      "1997-06     7301\n",
      "1997-07     8131\n",
      "1997-08     5851\n",
      "1997-09     5729\n",
      "1997-10     6203\n",
      "1997-11     7812\n",
      "1997-12     6418\n",
      "1998-01     5278\n",
      "1998-02     5340\n",
      "1998-03     7431\n",
      "1998-04     4697\n",
      "1998-05     4903\n",
      "1998-06     5287\n",
      "Name: cnt, dtype: int64\n"
     ]
    },
    {
     "data": {
      "text/plain": [
       "<matplotlib.axes._subplots.AxesSubplot at 0x2b7d9d30>"
      ]
     },
     "execution_count": 207,
     "metadata": {},
     "output_type": "execute_result"
    },
    {
     "data": {
      "image/png": "[encoded data removed]",
      "text/plain": [
       "<Figure size 432x288 with 1 Axes>"
      ]
     },
     "metadata": {
      "needs_background": "light"
     },
     "output_type": "display_data"
    }
   ],
   "source": [
    "print (df3.cnt)\n",
    "df3.cnt.plot()"
   ]
  },
  {
   "cell_type": "markdown",
   "metadata": {},
   "source": [
    "每月销售次数来看：1997年一季度销售量最大，尤其前3个月，超过每个月销量均超过19000，1997年一季度之后每月销售量均低于10000,由于均价变动不大，因此销售额规律同销售次数"
   ]
  },
  {
   "cell_type": "code",
   "execution_count": 223,
   "metadata": {},
   "outputs": [
    {
     "name": "stdout",
     "output_type": "stream",
     "text": [
      "0.4947815019092066\n",
      "0.3217225286380993\n",
      "0.22766228256257956\n",
      "0.16652524395417903\n",
      "0.12431056427662282\n"
     ]
    }
   ],
   "source": [
    "print(len(df2.id.value_counts()[df2.id.value_counts() >1])/len(df2.id.unique()))\n",
    "print(len(df2.id.value_counts()[df2.id.value_counts() >2])/len(df2.id.unique()))\n",
    "print(len(df2.id.value_counts()[df2.id.value_counts() >3])/len(df2.id.unique()))\n",
    "print(len(df2.id.value_counts()[df2.id.value_counts() >4])/len(df2.id.unique()))\n",
    "print(len(df2.id.value_counts()[df2.id.value_counts() >5])/len(df2.id.unique()))"
   ]
  },
  {
   "cell_type": "markdown",
   "metadata": {},
   "source": [
    "在cdnow 消费的人群中，49.5的有复购行为, 12.4%的用户有过5次以上的购买行为"
   ]
  },
  {
   "cell_type": "code",
   "execution_count": 249,
   "metadata": {
    "scrolled": false
   },
   "outputs": [
    {
     "data": {
      "text/plain": [
       "<matplotlib.axes._subplots.AxesSubplot at 0xe717438>"
      ]
     },
     "execution_count": 249,
     "metadata": {},
     "output_type": "execute_result"
    },
    {
     "data": {
      "image/png": "[encoded data removed]",
      "text/plain": [
       "<Figure size 432x288 with 1 Axes>"
      ]
     },
     "metadata": {
      "needs_background": "light"
     },
     "output_type": "display_data"
    }
   ],
   "source": [
    "# df2.id.value_counts()[df2.id.value_counts() >2].index\n",
    "df2.head()\n",
    "df2.groupby(['month', 'id']).count().loc[(slice(None),df2.id.value_counts()[df2.id.value_counts() >10].index),:].reset_index(level=1)\\\n",
    ".groupby('month')['cnt'].sum().plot()"
   ]
  },
  {
   "cell_type": "markdown",
   "metadata": {},
   "source": [
    "通过对整个时间段的购买客户购买情况进行分析，发现当客户购买次数超过15次时，按月份来看，这些客户的购买没有什么区别，说明忠实客户后期仍然会继续选择购买；\n",
    "当客户购买次数在2-10次时，这些复购的客户均是在1997-03月份的购买次数最大，之后并不能很好的留存下来，而1997-03单笔销售价格并无明显下降。可能是当时处于市场垄断地位或者进行了促销，类似买1送1的活动，导致销量大幅增加，而价格相比较之后的月份并无明显变化"
   ]
  },
  {
   "cell_type": "markdown",
   "metadata": {},
   "source": [
    "参考思路-分析:"
   ]
  },
  {
   "cell_type": "markdown",
   "metadata": {},
   "source": [
    "1. 销售静态分析:单笔订单购买数量,平均数量为2.4，最大数量99个\n",
    "单笔订单金额,平均金额为35.89，最大金额1286.01\n"
   ]
  },
  {
   "cell_type": "code",
   "execution_count": 284,
   "metadata": {},
   "outputs": [
    {
     "data": {
      "text/plain": [
       "35.8936480569691"
      ]
     },
     "execution_count": 284,
     "metadata": {},
     "output_type": "execute_result"
    }
   ],
   "source": [
    "df2.price.mean()"
   ]
  },
  {
   "cell_type": "markdown",
   "metadata": {},
   "source": [
    "2. 销售动态分析：\n",
    "a.订单趋势分析：1997年一季度订单增长明显，之后自从1997-03-26订单量从每日超过300单骤降至150以内\n",
    "b.金额趋势同订单趋势一致\n",
    "1997-10-08 日均价最低，为12.04元"
   ]
  },
  {
   "cell_type": "code",
   "execution_count": 298,
   "metadata": {},
   "outputs": [
    {
     "data": {
      "text/plain": [
       "<matplotlib.axes._subplots.AxesSubplot at 0x4edc7a20>"
      ]
     },
     "execution_count": 298,
     "metadata": {},
     "output_type": "execute_result"
    },
    {
     "data": {
      "image/png": "[encoded data removed]",
      "text/plain": [
       "<Figure size 432x288 with 1 Axes>"
      ]
     },
     "metadata": {
      "needs_background": "light"
     },
     "output_type": "display_data"
    }
   ],
   "source": [
    "df.resample('M').count().plot()"
   ]
  },
  {
   "cell_type": "code",
   "execution_count": 306,
   "metadata": {
    "scrolled": false
   },
   "outputs": [
    {
     "data": {
      "text/plain": [
       "<matplotlib.axes._subplots.AxesSubplot at 0x4dafd6d8>"
      ]
     },
     "execution_count": 306,
     "metadata": {},
     "output_type": "execute_result"
    },
    {
     "data": {
      "image/png": "[encoded data removed]",
      "text/plain": [
       "<Figure size 432x288 with 1 Axes>"
      ]
     },
     "metadata": {
      "needs_background": "light"
     },
     "output_type": "display_data"
    }
   ],
   "source": [
    "df.resample('D')['price'].sum().plot()"
   ]
  },
  {
   "cell_type": "code",
   "execution_count": 314,
   "metadata": {},
   "outputs": [
    {
     "data": {
      "text/plain": [
       "dt\n",
       "1997-10-08    12.041432\n",
       "Freq: D, Name: price_1, dtype: float64"
      ]
     },
     "execution_count": 314,
     "metadata": {},
     "output_type": "execute_result"
    }
   ],
   "source": [
    "df.resample('D')['price_1'].mean()[df.resample('D')['price_1'].mean()<13]"
   ]
  },
  {
   "cell_type": "code",
   "execution_count": 317,
   "metadata": {},
   "outputs": [
    {
     "data": {
      "text/html": [
       "<div>\n",
       "<style scoped>\n",
       "    .dataframe tbody tr th:only-of-type {\n",
       "        vertical-align: middle;\n",
       "    }\n",
       "\n",
       "    .dataframe tbody tr th {\n",
       "        vertical-align: top;\n",
       "    }\n",
       "\n",
       "    .dataframe thead th {\n",
       "        text-align: right;\n",
       "    }\n",
       "</style>\n",
       "<table border=\"1\" class=\"dataframe\">\n",
       "  <thead>\n",
       "    <tr style=\"text-align: right;\">\n",
       "      <th></th>\n",
       "      <th>id</th>\n",
       "      <th>time</th>\n",
       "      <th>cnt</th>\n",
       "      <th>price</th>\n",
       "      <th>money</th>\n",
       "      <th>price_1</th>\n",
       "      <th>month</th>\n",
       "    </tr>\n",
       "    <tr>\n",
       "      <th>dt</th>\n",
       "      <th></th>\n",
       "      <th></th>\n",
       "      <th></th>\n",
       "      <th></th>\n",
       "      <th></th>\n",
       "      <th></th>\n",
       "      <th></th>\n",
       "    </tr>\n",
       "  </thead>\n",
       "  <tbody>\n",
       "    <tr>\n",
       "      <th>1997-10-08</th>\n",
       "      <td>02484</td>\n",
       "      <td>19971008</td>\n",
       "      <td>2</td>\n",
       "      <td>14.98</td>\n",
       "      <td>29.96</td>\n",
       "      <td>7.490000</td>\n",
       "      <td>1997-10</td>\n",
       "    </tr>\n",
       "    <tr>\n",
       "      <th>1997-10-08</th>\n",
       "      <td>03419</td>\n",
       "      <td>19971008</td>\n",
       "      <td>1</td>\n",
       "      <td>4.99</td>\n",
       "      <td>4.99</td>\n",
       "      <td>4.990000</td>\n",
       "      <td>1997-10</td>\n",
       "    </tr>\n",
       "    <tr>\n",
       "      <th>1997-10-08</th>\n",
       "      <td>07145</td>\n",
       "      <td>19971008</td>\n",
       "      <td>2</td>\n",
       "      <td>12.98</td>\n",
       "      <td>25.96</td>\n",
       "      <td>6.490000</td>\n",
       "      <td>1997-10</td>\n",
       "    </tr>\n",
       "    <tr>\n",
       "      <th>1997-10-08</th>\n",
       "      <td>07145</td>\n",
       "      <td>19971008</td>\n",
       "      <td>1</td>\n",
       "      <td>10.49</td>\n",
       "      <td>10.49</td>\n",
       "      <td>10.490000</td>\n",
       "      <td>1997-10</td>\n",
       "    </tr>\n",
       "    <tr>\n",
       "      <th>1997-10-08</th>\n",
       "      <td>07477</td>\n",
       "      <td>19971008</td>\n",
       "      <td>5</td>\n",
       "      <td>45.45</td>\n",
       "      <td>227.25</td>\n",
       "      <td>9.090000</td>\n",
       "      <td>1997-10</td>\n",
       "    </tr>\n",
       "    <tr>\n",
       "      <th>1997-10-08</th>\n",
       "      <td>07838</td>\n",
       "      <td>19971008</td>\n",
       "      <td>2</td>\n",
       "      <td>15.98</td>\n",
       "      <td>31.96</td>\n",
       "      <td>7.990000</td>\n",
       "      <td>1997-10</td>\n",
       "    </tr>\n",
       "    <tr>\n",
       "      <th>1997-10-08</th>\n",
       "      <td>09172</td>\n",
       "      <td>19971008</td>\n",
       "      <td>5</td>\n",
       "      <td>31.95</td>\n",
       "      <td>159.75</td>\n",
       "      <td>6.390000</td>\n",
       "      <td>1997-10</td>\n",
       "    </tr>\n",
       "    <tr>\n",
       "      <th>1997-10-08</th>\n",
       "      <td>09289</td>\n",
       "      <td>19971008</td>\n",
       "      <td>1</td>\n",
       "      <td>9.49</td>\n",
       "      <td>9.49</td>\n",
       "      <td>9.490000</td>\n",
       "      <td>1997-10</td>\n",
       "    </tr>\n",
       "    <tr>\n",
       "      <th>1997-10-08</th>\n",
       "      <td>10655</td>\n",
       "      <td>19971008</td>\n",
       "      <td>1</td>\n",
       "      <td>10.49</td>\n",
       "      <td>10.49</td>\n",
       "      <td>10.490000</td>\n",
       "      <td>1997-10</td>\n",
       "    </tr>\n",
       "    <tr>\n",
       "      <th>1997-10-08</th>\n",
       "      <td>13227</td>\n",
       "      <td>19971008</td>\n",
       "      <td>3</td>\n",
       "      <td>30.47</td>\n",
       "      <td>91.41</td>\n",
       "      <td>10.156667</td>\n",
       "      <td>1997-10</td>\n",
       "    </tr>\n",
       "    <tr>\n",
       "      <th>1997-10-08</th>\n",
       "      <td>13709</td>\n",
       "      <td>19971008</td>\n",
       "      <td>1</td>\n",
       "      <td>2.99</td>\n",
       "      <td>2.99</td>\n",
       "      <td>2.990000</td>\n",
       "      <td>1997-10</td>\n",
       "    </tr>\n",
       "    <tr>\n",
       "      <th>1997-10-08</th>\n",
       "      <td>14046</td>\n",
       "      <td>19971008</td>\n",
       "      <td>1</td>\n",
       "      <td>2.99</td>\n",
       "      <td>2.99</td>\n",
       "      <td>2.990000</td>\n",
       "      <td>1997-10</td>\n",
       "    </tr>\n",
       "    <tr>\n",
       "      <th>1997-10-08</th>\n",
       "      <td>14048</td>\n",
       "      <td>19971008</td>\n",
       "      <td>1</td>\n",
       "      <td>2.99</td>\n",
       "      <td>2.99</td>\n",
       "      <td>2.990000</td>\n",
       "      <td>1997-10</td>\n",
       "    </tr>\n",
       "    <tr>\n",
       "      <th>1997-10-08</th>\n",
       "      <td>16094</td>\n",
       "      <td>19971008</td>\n",
       "      <td>5</td>\n",
       "      <td>53.95</td>\n",
       "      <td>269.75</td>\n",
       "      <td>10.790000</td>\n",
       "      <td>1997-10</td>\n",
       "    </tr>\n",
       "    <tr>\n",
       "      <th>1997-10-08</th>\n",
       "      <td>17002</td>\n",
       "      <td>19971008</td>\n",
       "      <td>1</td>\n",
       "      <td>6.49</td>\n",
       "      <td>6.49</td>\n",
       "      <td>6.490000</td>\n",
       "      <td>1997-10</td>\n",
       "    </tr>\n",
       "    <tr>\n",
       "      <th>1997-10-08</th>\n",
       "      <td>17084</td>\n",
       "      <td>19971008</td>\n",
       "      <td>1</td>\n",
       "      <td>10.49</td>\n",
       "      <td>10.49</td>\n",
       "      <td>10.490000</td>\n",
       "      <td>1997-10</td>\n",
       "    </tr>\n",
       "    <tr>\n",
       "      <th>1997-10-08</th>\n",
       "      <td>18961</td>\n",
       "      <td>19971008</td>\n",
       "      <td>3</td>\n",
       "      <td>31.47</td>\n",
       "      <td>94.41</td>\n",
       "      <td>10.490000</td>\n",
       "      <td>1997-10</td>\n",
       "    </tr>\n",
       "    <tr>\n",
       "      <th>1997-10-08</th>\n",
       "      <td>20746</td>\n",
       "      <td>19971008</td>\n",
       "      <td>2</td>\n",
       "      <td>18.98</td>\n",
       "      <td>37.96</td>\n",
       "      <td>9.490000</td>\n",
       "      <td>1997-10</td>\n",
       "    </tr>\n",
       "    <tr>\n",
       "      <th>1997-10-08</th>\n",
       "      <td>21243</td>\n",
       "      <td>19971008</td>\n",
       "      <td>2</td>\n",
       "      <td>11.98</td>\n",
       "      <td>23.96</td>\n",
       "      <td>5.990000</td>\n",
       "      <td>1997-10</td>\n",
       "    </tr>\n",
       "    <tr>\n",
       "      <th>1997-10-08</th>\n",
       "      <td>21920</td>\n",
       "      <td>19971008</td>\n",
       "      <td>5</td>\n",
       "      <td>45.95</td>\n",
       "      <td>229.75</td>\n",
       "      <td>9.190000</td>\n",
       "      <td>1997-10</td>\n",
       "    </tr>\n",
       "    <tr>\n",
       "      <th>1997-10-08</th>\n",
       "      <td>22050</td>\n",
       "      <td>19971008</td>\n",
       "      <td>2</td>\n",
       "      <td>15.48</td>\n",
       "      <td>30.96</td>\n",
       "      <td>7.740000</td>\n",
       "      <td>1997-10</td>\n",
       "    </tr>\n",
       "    <tr>\n",
       "      <th>1997-10-08</th>\n",
       "      <td>22078</td>\n",
       "      <td>19971008</td>\n",
       "      <td>1</td>\n",
       "      <td>6.49</td>\n",
       "      <td>6.49</td>\n",
       "      <td>6.490000</td>\n",
       "      <td>1997-10</td>\n",
       "    </tr>\n",
       "    <tr>\n",
       "      <th>1997-10-08</th>\n",
       "      <td>22348</td>\n",
       "      <td>19971008</td>\n",
       "      <td>6</td>\n",
       "      <td>60.44</td>\n",
       "      <td>362.64</td>\n",
       "      <td>10.073333</td>\n",
       "      <td>1997-10</td>\n",
       "    </tr>\n",
       "  </tbody>\n",
       "</table>\n",
       "</div>"
      ],
      "text/plain": [
       "               id      time  cnt  price   money    price_1    month\n",
       "dt                                                                 \n",
       "1997-10-08  02484  19971008    2  14.98   29.96   7.490000  1997-10\n",
       "1997-10-08  03419  19971008    1   4.99    4.99   4.990000  1997-10\n",
       "1997-10-08  07145  19971008    2  12.98   25.96   6.490000  1997-10\n",
       "1997-10-08  07145  19971008    1  10.49   10.49  10.490000  1997-10\n",
       "1997-10-08  07477  19971008    5  45.45  227.25   9.090000  1997-10\n",
       "1997-10-08  07838  19971008    2  15.98   31.96   7.990000  1997-10\n",
       "1997-10-08  09172  19971008    5  31.95  159.75   6.390000  1997-10\n",
       "1997-10-08  09289  19971008    1   9.49    9.49   9.490000  1997-10\n",
       "1997-10-08  10655  19971008    1  10.49   10.49  10.490000  1997-10\n",
       "1997-10-08  13227  19971008    3  30.47   91.41  10.156667  1997-10\n",
       "1997-10-08  13709  19971008    1   2.99    2.99   2.990000  1997-10\n",
       "1997-10-08  14046  19971008    1   2.99    2.99   2.990000  1997-10\n",
       "1997-10-08  14048  19971008    1   2.99    2.99   2.990000  1997-10\n",
       "1997-10-08  16094  19971008    5  53.95  269.75  10.790000  1997-10\n",
       "1997-10-08  17002  19971008    1   6.49    6.49   6.490000  1997-10\n",
       "1997-10-08  17084  19971008    1  10.49   10.49  10.490000  1997-10\n",
       "1997-10-08  18961  19971008    3  31.47   94.41  10.490000  1997-10\n",
       "1997-10-08  20746  19971008    2  18.98   37.96   9.490000  1997-10\n",
       "1997-10-08  21243  19971008    2  11.98   23.96   5.990000  1997-10\n",
       "1997-10-08  21920  19971008    5  45.95  229.75   9.190000  1997-10\n",
       "1997-10-08  22050  19971008    2  15.48   30.96   7.740000  1997-10\n",
       "1997-10-08  22078  19971008    1   6.49    6.49   6.490000  1997-10\n",
       "1997-10-08  22348  19971008    6  60.44  362.64  10.073333  1997-10"
      ]
     },
     "execution_count": 317,
     "metadata": {},
     "output_type": "execute_result"
    }
   ],
   "source": [
    "df.loc['1997-10-08'][df.loc['1997-10-08','price_1'] <11]"
   ]
  },
  {
   "cell_type": "markdown",
   "metadata": {},
   "source": [
    "3.用户消费行为静态分析\n",
    "A.用户购买数量分析\n",
    "    a.累计购买数量分析:购买最多前8位用户购买订单超过100单\n",
    "    b.累计购买最多的前4个用户占总订单数的超过1%\n",
    "    c.最大单笔购买数量为99\n",
    "B.用户购买金额分布同数量分布\n",
    "C.同数量分布"
   ]
  },
  {
   "cell_type": "code",
   "execution_count": 326,
   "metadata": {},
   "outputs": [
    {
     "data": {
      "text/plain": [
       "id\n",
       "14048    217\n",
       "07592    201\n",
       "07983    149\n",
       "22061    143\n",
       "03049    117\n",
       "00499    110\n",
       "19597    109\n",
       "07145    102\n",
       "02484     80\n",
       "10079     67\n",
       "04459     65\n",
       "07931     62\n",
       "00710     61\n",
       "12367     60\n",
       "17104     58\n",
       "19339     56\n",
       "06057     55\n",
       "01722     52\n",
       "08035     52\n",
       "13167     50\n",
       "01077     49\n",
       "20917     49\n",
       "20873     49\n",
       "22013     48\n",
       "12476     47\n",
       "01760     47\n",
       "15562     46\n",
       "00398     44\n",
       "12860     42\n",
       "09908     42\n",
       "        ... \n",
       "17161      1\n",
       "17164      1\n",
       "08795      1\n",
       "17165      1\n",
       "17166      1\n",
       "08819      1\n",
       "08820      1\n",
       "08821      1\n",
       "08834      1\n",
       "17123      1\n",
       "08843      1\n",
       "08842      1\n",
       "08841      1\n",
       "17127      1\n",
       "08839      1\n",
       "08838      1\n",
       "08837      1\n",
       "08836      1\n",
       "17130      1\n",
       "17140      1\n",
       "17131      1\n",
       "17133      1\n",
       "17135      1\n",
       "17136      1\n",
       "17137      1\n",
       "08826      1\n",
       "17138      1\n",
       "17139      1\n",
       "08823      1\n",
       "00001      1\n",
       "Name: cnt, Length: 23570, dtype: int64"
      ]
     },
     "execution_count": 326,
     "metadata": {},
     "output_type": "execute_result"
    }
   ],
   "source": [
    "df2.groupby([ 'id'])['cnt'].count().sort_values(ascending =False)"
   ]
  },
  {
   "cell_type": "code",
   "execution_count": 327,
   "metadata": {},
   "outputs": [
    {
     "data": {
      "text/plain": [
       "id\n",
       "14048    0.003115\n",
       "07592    0.002885\n",
       "07983    0.002139\n",
       "22061    0.002053\n",
       "03049    0.001680\n",
       "00499    0.001579\n",
       "19597    0.001565\n",
       "07145    0.001464\n",
       "02484    0.001148\n",
       "10079    0.000962\n",
       "04459    0.000933\n",
       "07931    0.000890\n",
       "00710    0.000876\n",
       "12367    0.000861\n",
       "17104    0.000833\n",
       "19339    0.000804\n",
       "06057    0.000790\n",
       "01722    0.000746\n",
       "08035    0.000746\n",
       "13167    0.000718\n",
       "01077    0.000703\n",
       "20917    0.000703\n",
       "20873    0.000703\n",
       "22013    0.000689\n",
       "12476    0.000675\n",
       "01760    0.000675\n",
       "15562    0.000660\n",
       "00398    0.000632\n",
       "12860    0.000603\n",
       "09908    0.000603\n",
       "           ...   \n",
       "17161    0.000014\n",
       "17164    0.000014\n",
       "08795    0.000014\n",
       "17165    0.000014\n",
       "17166    0.000014\n",
       "08819    0.000014\n",
       "08820    0.000014\n",
       "08821    0.000014\n",
       "08834    0.000014\n",
       "17123    0.000014\n",
       "08843    0.000014\n",
       "08842    0.000014\n",
       "08841    0.000014\n",
       "17127    0.000014\n",
       "08839    0.000014\n",
       "08838    0.000014\n",
       "08837    0.000014\n",
       "08836    0.000014\n",
       "17130    0.000014\n",
       "17140    0.000014\n",
       "17131    0.000014\n",
       "17133    0.000014\n",
       "17135    0.000014\n",
       "17136    0.000014\n",
       "17137    0.000014\n",
       "08826    0.000014\n",
       "17138    0.000014\n",
       "17139    0.000014\n",
       "08823    0.000014\n",
       "00001    0.000014\n",
       "Name: cnt, Length: 23570, dtype: float64"
      ]
     },
     "execution_count": 327,
     "metadata": {},
     "output_type": "execute_result"
    }
   ],
   "source": [
    "df2.groupby([ 'id'])['cnt'].count().sort_values(ascending =False)/len(df2)"
   ]
  },
  {
   "cell_type": "code",
   "execution_count": 328,
   "metadata": {},
   "outputs": [
    {
     "data": {
      "text/plain": [
       "99"
      ]
     },
     "execution_count": 328,
     "metadata": {},
     "output_type": "execute_result"
    }
   ],
   "source": [
    "df2.cnt.max()"
   ]
  },
  {
   "cell_type": "markdown",
   "metadata": {},
   "source": []
  },
  {
   "cell_type": "code",
   "execution_count": null,
   "metadata": {},
   "outputs": [],
   "source": []
  },
  {
   "cell_type": "code",
   "execution_count": 278,
   "metadata": {},
   "outputs": [
    {
     "data": {
      "text/plain": [
       "<matplotlib.axes._subplots.AxesSubplot at 0x4f53d400>"
      ]
     },
     "execution_count": 278,
     "metadata": {},
     "output_type": "execute_result"
    },
    {
     "data": {
      "image/png": "[encoded data removed]",
      "text/plain": [
       "<Figure size 432x288 with 1 Axes>"
      ]
     },
     "metadata": {
      "needs_background": "light"
     },
     "output_type": "display_data"
    }
   ],
   "source": [
    "# fig = plt.figure()  # 创建画布\n",
    "# ax = fig.add_subplot(111)   # 创建子图。 画布分割成1行1列，从左到右从上到下第1幅\n",
    "# print(df2.reset_index().set_index('id').groupby('id')['cnt'].sum().value_counts()[:])\n",
    "df2.reset_index().set_index('id').groupby('id')['cnt'].sum().value_counts()[:10].plot()\n",
    "# ax.hist(df2.reset_index().set_index('id').groupby('id')['cnt'].sum().value_counts(), bins=10, color='green', alpha=0.6)  # bins控制分组，appha设置参数点的透明度\n",
    "# df2.groupby(['month', 'id']).count().loc[(slice(None),df2.id.value_counts()[df2.id.value_counts() >10].index),:].reset_index(level=1)\\\n",
    "# .groupby('month')['cnt'].sum().plot()"
   ]
  },
  {
   "cell_type": "markdown",
   "metadata": {},
   "source": [
    "df.resample('M', kind='period').sum().plot()"
   ]
  },
  {
   "cell_type": "code",
   "execution_count": 167,
   "metadata": {},
   "outputs": [
    {
     "data": {
      "text/plain": [
       "<matplotlib.axes._subplots.AxesSubplot at 0xb82eb00>"
      ]
     },
     "execution_count": 167,
     "metadata": {},
     "output_type": "execute_result"
    },
    {
     "data": {
      "image/png": "[encoded data removed]",
      "text/plain": [
       "<Figure size 432x288 with 1 Axes>"
      ]
     },
     "metadata": {
      "needs_background": "light"
     },
     "output_type": "display_data"
    }
   ],
   "source": [
    "df['price_1'] = df2.price/df2.cnt\n",
    "df.resample('M', kind='period')['price_1'].mean().plot()"
   ]
  },
  {
   "cell_type": "markdown",
   "metadata": {},
   "source": [
    "1.按月均价来看，整体月均价基本都在14-15之前，1997年前三个月整体月均价格叫较高，超过15\n",
    "2.每月销售次数来看：1997年一季度销售量最大，尤其前3个月，超过每个月销量均超过19000，1997年一季度之后每月销售量均低于10000,由于均价变动不大，因此销售额规律同销售次数\n",
    "3.在cdnow 消费的人群中，49.5的有复购行为, 12.4%的用户有过5次以上的购买行为\n",
    "4.通过对整个时间段的购买客户购买情况进行分析，发现当客户购买次数超过15次时，按月份来看，这些客户的购买没有什么区别，说明忠实客户后期仍然会继续选择购买；\n",
    "当客户购买次数在2-10次时，这些复购的客户均是在1997-03月份的购买次数最大，之后并不能很好的留存下来，而1997-03单笔销售价格并无明显下降。可能是当时处于市场垄断地位或者进行了促销，类似买1送1的活动，导致销量大幅增加，而价格相比较之后的月份并无明显变化"
   ]
  },
  {
   "cell_type": "markdown",
   "metadata": {},
   "source": [
    "1. 销售静态分析:单笔订单购买数量,平均数量为2.4，最大数量99个\n",
    "单笔订单金额,平均金额为35.89，最大金额1286.01\n",
    "\n",
    "2. 销售动态分析：\n",
    "a.订单趋势分析：1997年一季度订单增长明显，之后自从1997-03-26订单量从每日超过300单骤降至150以内\n",
    "b.金额趋势同订单趋势一致\n",
    "1997-10-08 日均价最低，为12.04元\n",
    "\n",
    "3.用户消费行为静态分析\n",
    "A.用户购买数量分析\n",
    "    a.累计购买数量分析:购买最多前8位用户购买订单超过100单\n",
    "    b.累计购买最多的前4个用户占总订单数的超过1%\n",
    "    c.最大单笔购买数量为99\n",
    "B.用户购买金额分布同数量分布\n",
    "C.同数量分布"
   ]
  }
 ],
 "metadata": {
  "kernelspec": {
   "display_name": "Python 3",
   "language": "python",
   "name": "python3"
  },
  "language_info": {
   "codemirror_mode": {
    "name": "ipython",
    "version": 3
   },
   "file_extension": ".py",
   "mimetype": "text/x-python",
   "name": "python",
   "nbconvert_exporter": "python",
   "pygments_lexer": "ipython3",
   "version": "3.7.3"
  }
 },
 "nbformat": 4,
 "nbformat_minor": 2
}
